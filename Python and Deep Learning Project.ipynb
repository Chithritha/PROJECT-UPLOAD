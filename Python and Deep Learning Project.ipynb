{
  "nbformat": 4,
  "nbformat_minor": 0,
  "metadata": {
    "colab": {
      "name": "Untitled0.ipynb",
      "provenance": []
    },
    "kernelspec": {
      "name": "python3",
      "display_name": "Python 3"
    },
    "language_info": {
      "name": "python"
    }
  },
  "cells": [
    {
      "cell_type": "markdown",
      "metadata": {
        "id": "D2sWS-vGC5K_"
      },
      "source": [
        "### Deep Neural Network to Predict Cancer as melignant or benign "
      ]
    },
    {
      "cell_type": "code",
      "metadata": {
        "id": "gSyZt5YT37F3"
      },
      "source": [
        "## IMPORTING DATASET\n",
        "\n",
        "from sklearn.datasets import load_breast_cancer\n",
        "Data = load_breast_cancer()"
      ],
      "execution_count": 1,
      "outputs": []
    },
    {
      "cell_type": "code",
      "metadata": {
        "colab": {
          "base_uri": "https://localhost:8080/"
        },
        "id": "pL1y14RF43xk",
        "outputId": "a7fab513-805b-4685-b8e8-1e065f7f6492"
      },
      "source": [
        "print(Data.DESCR)"
      ],
      "execution_count": 2,
      "outputs": [
        {
          "output_type": "stream",
          "text": [
            ".. _breast_cancer_dataset:\n",
            "\n",
            "Breast cancer wisconsin (diagnostic) dataset\n",
            "--------------------------------------------\n",
            "\n",
            "**Data Set Characteristics:**\n",
            "\n",
            "    :Number of Instances: 569\n",
            "\n",
            "    :Number of Attributes: 30 numeric, predictive attributes and the class\n",
            "\n",
            "    :Attribute Information:\n",
            "        - radius (mean of distances from center to points on the perimeter)\n",
            "        - texture (standard deviation of gray-scale values)\n",
            "        - perimeter\n",
            "        - area\n",
            "        - smoothness (local variation in radius lengths)\n",
            "        - compactness (perimeter^2 / area - 1.0)\n",
            "        - concavity (severity of concave portions of the contour)\n",
            "        - concave points (number of concave portions of the contour)\n",
            "        - symmetry \n",
            "        - fractal dimension (\"coastline approximation\" - 1)\n",
            "\n",
            "        The mean, standard error, and \"worst\" or largest (mean of the three\n",
            "        largest values) of these features were computed for each image,\n",
            "        resulting in 30 features.  For instance, field 3 is Mean Radius, field\n",
            "        13 is Radius SE, field 23 is Worst Radius.\n",
            "\n",
            "        - class:\n",
            "                - WDBC-Malignant\n",
            "                - WDBC-Benign\n",
            "\n",
            "    :Summary Statistics:\n",
            "\n",
            "    ===================================== ====== ======\n",
            "                                           Min    Max\n",
            "    ===================================== ====== ======\n",
            "    radius (mean):                        6.981  28.11\n",
            "    texture (mean):                       9.71   39.28\n",
            "    perimeter (mean):                     43.79  188.5\n",
            "    area (mean):                          143.5  2501.0\n",
            "    smoothness (mean):                    0.053  0.163\n",
            "    compactness (mean):                   0.019  0.345\n",
            "    concavity (mean):                     0.0    0.427\n",
            "    concave points (mean):                0.0    0.201\n",
            "    symmetry (mean):                      0.106  0.304\n",
            "    fractal dimension (mean):             0.05   0.097\n",
            "    radius (standard error):              0.112  2.873\n",
            "    texture (standard error):             0.36   4.885\n",
            "    perimeter (standard error):           0.757  21.98\n",
            "    area (standard error):                6.802  542.2\n",
            "    smoothness (standard error):          0.002  0.031\n",
            "    compactness (standard error):         0.002  0.135\n",
            "    concavity (standard error):           0.0    0.396\n",
            "    concave points (standard error):      0.0    0.053\n",
            "    symmetry (standard error):            0.008  0.079\n",
            "    fractal dimension (standard error):   0.001  0.03\n",
            "    radius (worst):                       7.93   36.04\n",
            "    texture (worst):                      12.02  49.54\n",
            "    perimeter (worst):                    50.41  251.2\n",
            "    area (worst):                         185.2  4254.0\n",
            "    smoothness (worst):                   0.071  0.223\n",
            "    compactness (worst):                  0.027  1.058\n",
            "    concavity (worst):                    0.0    1.252\n",
            "    concave points (worst):               0.0    0.291\n",
            "    symmetry (worst):                     0.156  0.664\n",
            "    fractal dimension (worst):            0.055  0.208\n",
            "    ===================================== ====== ======\n",
            "\n",
            "    :Missing Attribute Values: None\n",
            "\n",
            "    :Class Distribution: 212 - Malignant, 357 - Benign\n",
            "\n",
            "    :Creator:  Dr. William H. Wolberg, W. Nick Street, Olvi L. Mangasarian\n",
            "\n",
            "    :Donor: Nick Street\n",
            "\n",
            "    :Date: November, 1995\n",
            "\n",
            "This is a copy of UCI ML Breast Cancer Wisconsin (Diagnostic) datasets.\n",
            "https://goo.gl/U2Uwz2\n",
            "\n",
            "Features are computed from a digitized image of a fine needle\n",
            "aspirate (FNA) of a breast mass.  They describe\n",
            "characteristics of the cell nuclei present in the image.\n",
            "\n",
            "Separating plane described above was obtained using\n",
            "Multisurface Method-Tree (MSM-T) [K. P. Bennett, \"Decision Tree\n",
            "Construction Via Linear Programming.\" Proceedings of the 4th\n",
            "Midwest Artificial Intelligence and Cognitive Science Society,\n",
            "pp. 97-101, 1992], a classification method which uses linear\n",
            "programming to construct a decision tree.  Relevant features\n",
            "were selected using an exhaustive search in the space of 1-4\n",
            "features and 1-3 separating planes.\n",
            "\n",
            "The actual linear program used to obtain the separating plane\n",
            "in the 3-dimensional space is that described in:\n",
            "[K. P. Bennett and O. L. Mangasarian: \"Robust Linear\n",
            "Programming Discrimination of Two Linearly Inseparable Sets\",\n",
            "Optimization Methods and Software 1, 1992, 23-34].\n",
            "\n",
            "This database is also available through the UW CS ftp server:\n",
            "\n",
            "ftp ftp.cs.wisc.edu\n",
            "cd math-prog/cpo-dataset/machine-learn/WDBC/\n",
            "\n",
            ".. topic:: References\n",
            "\n",
            "   - W.N. Street, W.H. Wolberg and O.L. Mangasarian. Nuclear feature extraction \n",
            "     for breast tumor diagnosis. IS&T/SPIE 1993 International Symposium on \n",
            "     Electronic Imaging: Science and Technology, volume 1905, pages 861-870,\n",
            "     San Jose, CA, 1993.\n",
            "   - O.L. Mangasarian, W.N. Street and W.H. Wolberg. Breast cancer diagnosis and \n",
            "     prognosis via linear programming. Operations Research, 43(4), pages 570-577, \n",
            "     July-August 1995.\n",
            "   - W.H. Wolberg, W.N. Street, and O.L. Mangasarian. Machine learning techniques\n",
            "     to diagnose breast cancer from fine-needle aspirates. Cancer Letters 77 (1994) \n",
            "     163-171.\n"
          ],
          "name": "stdout"
        }
      ]
    },
    {
      "cell_type": "code",
      "metadata": {
        "colab": {
          "base_uri": "https://localhost:8080/"
        },
        "id": "ZmnJULFR7n9B",
        "outputId": "dda1cd1e-cc6c-422c-d799-ed4aaa7ff61c"
      },
      "source": [
        "features = Data.data\n",
        "target = Data.target\n",
        "\n",
        "print(features.shape)\n",
        "print(target.shape)"
      ],
      "execution_count": 4,
      "outputs": [
        {
          "output_type": "stream",
          "text": [
            "(569, 30)\n",
            "(569,)\n"
          ],
          "name": "stdout"
        }
      ]
    },
    {
      "cell_type": "code",
      "metadata": {
        "colab": {
          "base_uri": "https://localhost:8080/"
        },
        "id": "GjTKhKka8EOz",
        "outputId": "c68fbdef-50d0-4af8-bc5c-49a30f4524ee"
      },
      "source": [
        "from sklearn.model_selection import train_test_split\n",
        "\n",
        "X_train, X_test, y_train, y_test = train_test_split(features, target, test_size=0.2)\n",
        "\n",
        "print(X_train.shape)\n",
        "print(y_train.shape)\n",
        "print(X_test.shape)\n",
        "print(y_test.shape)"
      ],
      "execution_count": 7,
      "outputs": [
        {
          "output_type": "stream",
          "text": [
            "(455, 30)\n",
            "(455,)\n",
            "(114, 30)\n",
            "(114,)\n"
          ],
          "name": "stdout"
        }
      ]
    },
    {
      "cell_type": "code",
      "metadata": {
        "id": "9b69zorh9t-h"
      },
      "source": [
        "from keras.models import Sequential\n",
        "from keras.layers import Dense"
      ],
      "execution_count": 8,
      "outputs": []
    },
    {
      "cell_type": "code",
      "metadata": {
        "id": "LuBnvaYs-Ay3"
      },
      "source": [
        "model = Sequential()\n",
        "model.add(Dense(32, input_dim = 30, activation='relu')) ## hidden layer 1\n",
        "model.add(Dense(64, activation='relu')) ## hidden layer 2\n",
        "model.add(Dense(1, activation='sigmoid'))"
      ],
      "execution_count": 9,
      "outputs": []
    },
    {
      "cell_type": "code",
      "metadata": {
        "id": "hj6MX6ci_LIf"
      },
      "source": [
        "model.compile(loss='binary_crossentropy', optimizer='adam', metrics=['accuracy'])"
      ],
      "execution_count": 10,
      "outputs": []
    },
    {
      "cell_type": "code",
      "metadata": {
        "colab": {
          "base_uri": "https://localhost:8080/"
        },
        "id": "lP4HHFzd_udN",
        "outputId": "afaaeee8-1a45-4228-8349-e9d58162f8a7"
      },
      "source": [
        "model.summary()"
      ],
      "execution_count": 11,
      "outputs": [
        {
          "output_type": "stream",
          "text": [
            "Model: \"sequential\"\n",
            "_________________________________________________________________\n",
            "Layer (type)                 Output Shape              Param #   \n",
            "=================================================================\n",
            "dense (Dense)                (None, 32)                992       \n",
            "_________________________________________________________________\n",
            "dense_1 (Dense)              (None, 64)                2112      \n",
            "_________________________________________________________________\n",
            "dense_2 (Dense)              (None, 1)                 65        \n",
            "=================================================================\n",
            "Total params: 3,169\n",
            "Trainable params: 3,169\n",
            "Non-trainable params: 0\n",
            "_________________________________________________________________\n"
          ],
          "name": "stdout"
        }
      ]
    },
    {
      "cell_type": "code",
      "metadata": {
        "colab": {
          "base_uri": "https://localhost:8080/"
        },
        "id": "V4AQaaF1_1wY",
        "outputId": "08f836d9-6e35-49c7-f6b9-7c980c26236f"
      },
      "source": [
        "model.fit(X_train, y_train, epochs=10)"
      ],
      "execution_count": 12,
      "outputs": [
        {
          "output_type": "stream",
          "text": [
            "Epoch 1/10\n",
            "15/15 [==============================] - 13s 2ms/step - loss: 8.1403 - accuracy: 0.4624\n",
            "Epoch 2/10\n",
            "15/15 [==============================] - 0s 2ms/step - loss: 1.4028 - accuracy: 0.6601\n",
            "Epoch 3/10\n",
            "15/15 [==============================] - 0s 2ms/step - loss: 0.4603 - accuracy: 0.8849\n",
            "Epoch 4/10\n",
            "15/15 [==============================] - 0s 2ms/step - loss: 0.2753 - accuracy: 0.9088\n",
            "Epoch 5/10\n",
            "15/15 [==============================] - 0s 2ms/step - loss: 0.3085 - accuracy: 0.8711\n",
            "Epoch 6/10\n",
            "15/15 [==============================] - 0s 1ms/step - loss: 0.2093 - accuracy: 0.9232\n",
            "Epoch 7/10\n",
            "15/15 [==============================] - 0s 2ms/step - loss: 0.2710 - accuracy: 0.8833\n",
            "Epoch 8/10\n",
            "15/15 [==============================] - 0s 2ms/step - loss: 0.3403 - accuracy: 0.8893\n",
            "Epoch 9/10\n",
            "15/15 [==============================] - 0s 2ms/step - loss: 0.2605 - accuracy: 0.9211\n",
            "Epoch 10/10\n",
            "15/15 [==============================] - 0s 2ms/step - loss: 0.2263 - accuracy: 0.9071\n"
          ],
          "name": "stdout"
        },
        {
          "output_type": "execute_result",
          "data": {
            "text/plain": [
              "<keras.callbacks.History at 0x7fb11f0aa590>"
            ]
          },
          "metadata": {
            "tags": []
          },
          "execution_count": 12
        }
      ]
    },
    {
      "cell_type": "code",
      "metadata": {
        "colab": {
          "base_uri": "https://localhost:8080/"
        },
        "id": "fmz0Gy2xAOB-",
        "outputId": "d07f6e5a-a7f2-4df1-c433-702298854478"
      },
      "source": [
        "scores = model.evaluate(X_test, y_test)\n",
        "print(scores) ## returns loss and accuracy"
      ],
      "execution_count": 13,
      "outputs": [
        {
          "output_type": "stream",
          "text": [
            "4/4 [==============================] - 0s 3ms/step - loss: 0.1861 - accuracy: 0.9211\n",
            "[0.18610922992229462, 0.9210526347160339]\n"
          ],
          "name": "stdout"
        }
      ]
    },
    {
      "cell_type": "code",
      "metadata": {
        "colab": {
          "base_uri": "https://localhost:8080/"
        },
        "id": "vFjI10GbArww",
        "outputId": "1848a285-cfaa-4bce-b6cf-29dbf718184f"
      },
      "source": [
        "predictions = model.predict(X_test)\n",
        "label=[]\n",
        "for pred in predictions:\n",
        "  if pred>=0.5:\n",
        "    print(\"Malignent\")\n",
        "  else:\n",
        "      print(\"Benign\")"
      ],
      "execution_count": 15,
      "outputs": [
        {
          "output_type": "stream",
          "text": [
            "Malignent\n",
            "Malignent\n",
            "Malignent\n",
            "Benign\n",
            "Benign\n",
            "Malignent\n",
            "Malignent\n",
            "Benign\n",
            "Malignent\n",
            "Benign\n",
            "Benign\n",
            "Malignent\n",
            "Malignent\n",
            "Malignent\n",
            "Malignent\n",
            "Malignent\n",
            "Malignent\n",
            "Malignent\n",
            "Benign\n",
            "Malignent\n",
            "Benign\n",
            "Benign\n",
            "Benign\n",
            "Benign\n",
            "Benign\n",
            "Malignent\n",
            "Benign\n",
            "Malignent\n",
            "Malignent\n",
            "Malignent\n",
            "Malignent\n",
            "Malignent\n",
            "Malignent\n",
            "Malignent\n",
            "Malignent\n",
            "Malignent\n",
            "Malignent\n",
            "Malignent\n",
            "Benign\n",
            "Malignent\n",
            "Malignent\n",
            "Malignent\n",
            "Benign\n",
            "Malignent\n",
            "Benign\n",
            "Malignent\n",
            "Benign\n",
            "Malignent\n",
            "Malignent\n",
            "Malignent\n",
            "Malignent\n",
            "Malignent\n",
            "Malignent\n",
            "Malignent\n",
            "Benign\n",
            "Malignent\n",
            "Malignent\n",
            "Malignent\n",
            "Malignent\n",
            "Malignent\n",
            "Malignent\n",
            "Benign\n",
            "Benign\n",
            "Benign\n",
            "Malignent\n",
            "Malignent\n",
            "Benign\n",
            "Malignent\n",
            "Malignent\n",
            "Malignent\n",
            "Malignent\n",
            "Malignent\n",
            "Malignent\n",
            "Malignent\n",
            "Benign\n",
            "Benign\n",
            "Malignent\n",
            "Benign\n",
            "Malignent\n",
            "Benign\n",
            "Malignent\n",
            "Malignent\n",
            "Malignent\n",
            "Malignent\n",
            "Benign\n",
            "Malignent\n",
            "Malignent\n",
            "Malignent\n",
            "Malignent\n",
            "Malignent\n",
            "Benign\n",
            "Malignent\n",
            "Malignent\n",
            "Benign\n",
            "Benign\n",
            "Malignent\n",
            "Malignent\n",
            "Malignent\n",
            "Malignent\n",
            "Malignent\n",
            "Benign\n",
            "Malignent\n",
            "Malignent\n",
            "Malignent\n",
            "Malignent\n",
            "Malignent\n",
            "Benign\n",
            "Benign\n",
            "Malignent\n",
            "Malignent\n",
            "Malignent\n",
            "Malignent\n",
            "Benign\n",
            "Malignent\n"
          ],
          "name": "stdout"
        }
      ]
    }
  ]
}